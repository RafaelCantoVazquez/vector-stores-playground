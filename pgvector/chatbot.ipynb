{
 "cells": [
  {
   "cell_type": "markdown",
   "metadata": {},
   "source": [
    "# Creando un chatbot simple utilizando PGVector vector store como long-term memory."
   ]
  },
  {
   "cell_type": "markdown",
   "metadata": {},
   "source": [
    "### Instalamos dependencias."
   ]
  },
  {
   "cell_type": "code",
   "execution_count": null,
   "metadata": {},
   "outputs": [],
   "source": [
    "pip install pgvector openai psycopg2-binary tiktoken langchain"
   ]
  },
  {
   "cell_type": "markdown",
   "metadata": {},
   "source": [
    "### Agregamos la llave de OpenAI a nuestras variables globales."
   ]
  },
  {
   "cell_type": "code",
   "execution_count": null,
   "metadata": {},
   "outputs": [],
   "source": [
    "%env OPENAI_API_KEY=<YOUR_OPENAI_API_KEY>"
   ]
  },
  {
   "cell_type": "markdown",
   "metadata": {},
   "source": [
    "### Creamos nuestra clase Vector Store."
   ]
  },
  {
   "cell_type": "code",
   "execution_count": 4,
   "metadata": {},
   "outputs": [],
   "source": [
    "from langchain.vectorstores.pgvector import PGVector\n",
    "from langchain.embeddings.openai import OpenAIEmbeddings\n",
    "from langchain.schema import Document\n",
    "\n",
    "class VectorStore:\n",
    "    def __init__(self):\n",
    "        self.__store = PGVector(\n",
    "            collection_name=\"playground_embeddings\",\n",
    "            connection_string=\"postgresql://<user>:<password>@<host>:<port>/<db_name>\",\n",
    "            embedding_function=OpenAIEmbeddings()\n",
    "        )\n",
    "\n",
    "    def add_document(self):\n",
    "        pass\n",
    "\n",
    "    def as_retriever(self):\n",
    "        return self.__store.as_retriever()"
   ]
  },
  {
   "cell_type": "markdown",
   "metadata": {},
   "source": [
    "### Creamos nuestro Chatbot."
   ]
  },
  {
   "cell_type": "code",
   "execution_count": null,
   "metadata": {},
   "outputs": [],
   "source": [
    "from langchain.llms import OpenAI\n",
    "from langchain.chains import ConversationChain\n",
    "from langchain.memory import VectorStoreRetrieverMemory\n",
    "\n",
    "exit_conditions = (\"q\", \"quit\", \"exit\")\n",
    "store = VectorStore()\n",
    "\n",
    "while True:\n",
    "    query = input(\"> \")\n",
    "    if query in exit_conditions:\n",
    "        break\n",
    "\n",
    "    conversation = ConversationChain(\n",
    "        llm=OpenAI(temperature=0),\n",
    "        memory=VectorStoreRetrieverMemory(retriever=store.as_retriever()),\n",
    "        verbose=True\n",
    "    )\n",
    "\n",
    "    response = conversation.predict(input=query)\n",
    "    print(response)\n",
    "\n",
    "    "
   ]
  }
 ],
 "metadata": {
  "kernelspec": {
   "display_name": ".venv",
   "language": "python",
   "name": "python3"
  },
  "language_info": {
   "codemirror_mode": {
    "name": "ipython",
    "version": 3
   },
   "file_extension": ".py",
   "mimetype": "text/x-python",
   "name": "python",
   "nbconvert_exporter": "python",
   "pygments_lexer": "ipython3",
   "version": "3.11.4"
  },
  "orig_nbformat": 4
 },
 "nbformat": 4,
 "nbformat_minor": 2
}
